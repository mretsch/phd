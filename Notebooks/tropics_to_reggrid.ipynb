{
 "cells": [
  {
   "cell_type": "code",
   "execution_count": 1,
   "metadata": {},
   "outputs": [],
   "source": [
    "# salloc --partition=shared --time=00:30:00 -A mh0731\n",
    "# cdo gendis,griddes_tropics.txt -setgrid,icon_grid_0015_R02B09_G.nc pr_20200120.nc weight_file_tropics.nc\n",
    "# cdo remap,griddes_tropics.txt,weight_file_tropics.nc -setgrid,icon_grid_0015_R02B09_G.nc pr_20200120.nc pr_20200120_reggrid.nc"
   ]
  },
  {
   "cell_type": "code",
   "execution_count": 2,
   "metadata": {},
   "outputs": [],
   "source": [
    "from getpass import getuser # Libary to copy things\n",
    "from pathlib import Path    # Object oriented libary to deal with paths\n",
    "import os\n",
    "from tempfile import NamedTemporaryFile, TemporaryDirectory # Creating temporary Files/Dirs\n",
    "from subprocess import run, PIPE\n",
    "import sys\n",
    " \n",
    "import dask # Distributed data libary\n",
    "from dask_jobqueue import SLURMCluster # Setting up distributed memories via slurm\n",
    "from distributed import Client, progress, wait # Libaray to orchestrate distributed resources\n",
    "import xarray as xr # Libary to work with labeled n-dimensional data and dask\n",
    "\n",
    "import warnings\n",
    "warnings.filterwarnings(action='ignore')"
   ]
  },
  {
   "cell_type": "code",
   "execution_count": 3,
   "metadata": {},
   "outputs": [],
   "source": [
    "# Set some user specific variables\n",
    "scratch_dir = Path('/scratch') / getuser()[0] / getuser() # Define the users scratch dir\n",
    "\n",
    "# Create a temp directory where the output of distributed cluster will be written to, after this notebook\n",
    "# is closed the temp directory will be closed\n",
    "dask_tmp_dir = TemporaryDirectory(dir=scratch_dir, prefix='reggrid_')\n",
    "\n",
    "cluster = SLURMCluster(memory='512GiB',# '256GiB',\n",
    "                       cores=72,# 48,\n",
    "                       project='mh0731',\n",
    "                       walltime='0:45:00',\n",
    "                       queue='gpu',\n",
    "                       name='reggrid',\n",
    "                       scheduler_options={'dashboard_address': ':12435'},\n",
    "                       local_directory=dask_tmp_dir.name,\n",
    "                       job_extra=[f'-J rggrd', \n",
    "                                  f'-D {dask_tmp_dir.name}',\n",
    "                                  f'--begin=now',\n",
    "                                  f'--output={dask_tmp_dir.name}/LOG_cluster.%j.o',\n",
    "                                  f'--output={dask_tmp_dir.name}/LOG_cluster.%j.o'\n",
    "                                 ],\n",
    "                       interface='ib0')\n",
    "\n",
    "cluster.scale(jobs=1)\n",
    "dask_client = Client(cluster)\n",
    "dask_client.wait_for_workers(9)#(6)\n"
   ]
  },
  {
   "cell_type": "code",
   "execution_count": 4,
   "metadata": {},
   "outputs": [],
   "source": [
    "@dask.delayed\n",
    "def run_cmd(cmd, path_extra=Path(sys.exec_prefix)/'bin'):\n",
    "    '''Run a bash command.'''\n",
    "    env_extra = os.environ.copy()\n",
    "    env_extra['PATH'] = str(path_extra) + ':' + env_extra['PATH']\n",
    "    \n",
    "    status = run(cmd, check=False, stderr=PIPE, stdout=PIPE, env=env_extra)\n",
    "    \n",
    "    if status.returncode != 0:\n",
    "        error = f'''{' '.join(cmd)}: {status.stderr.decode('utf-8')}'''\n",
    "        raise RuntimeError(f'{error}')\n",
    "    return status.stdout.decode('utf-8')"
   ]
  },
  {
   "cell_type": "code",
   "execution_count": 10,
   "metadata": {},
   "outputs": [],
   "source": [
    "data_path = Path('/work/mh0731/m300414/DyWinter_b10/Tropics_fromGrib/')\n",
    "glob_pattern = 'omega500_'\n",
    "# if dont take first element(s), theres a subdir with more matching files, we dont want that\n",
    "data_files = sorted([str(f) for f in data_path.rglob(f'*{glob_pattern}*.nc')])\n",
    "\n",
    "work_dir = Path('/work/mh0731/m300414/')\n",
    "gridfile = Path('/pool/data/ICON/grids/public/mpim/0017/icon_grid_0017_R02B10_G.nc')\n",
    "grid_description = work_dir / 'DyWinter_b10' /'Cartesian_Grid' / 'griddes_tropics.txt'\n",
    "weight_file      = work_dir / 'DyWinter_b10' /'Cartesian_Grid' / 'weight_file_tropics.nc'"
   ]
  },
  {
   "cell_type": "code",
   "execution_count": 16,
   "metadata": {},
   "outputs": [
    {
     "name": "stdout",
     "output_type": "stream",
     "text": [
      "20200217T0000\n",
      "20200218T0000\n",
      "20200219T0000\n",
      "20200220T0000\n",
      "20200221T0000\n",
      "20200222T0000\n",
      "20200223T0000\n",
      "20200224T0000\n",
      "20200225T0000\n",
      "20200226T0000\n",
      "20200227T0000\n",
      "20200228T0000\n",
      "20200229T0000\n",
      "20200301T0000\n"
     ]
    }
   ],
   "source": [
    "run_futures = []\n",
    "for infile in data_files[28:]: # 7 increment?\n",
    "    \n",
    "    print(infile[-24:-11])\n",
    "    date = infile[-24:-11]\n",
    "    \n",
    "    outfile = work_dir / 'DyWinter_b10' / 'Cartesian_Grid' / f'omega500_{date}_reggrid.nc'\n",
    "    command = ('cdo', '-P', '8', f'remap,{grid_description},{weight_file}', f'-setgrid,{gridfile}', f'{infile}', f'{outfile}')\n",
    "    \n",
    "    run_futures.append(run_cmd(command))"
   ]
  },
  {
   "cell_type": "code",
   "execution_count": 17,
   "metadata": {},
   "outputs": [
    {
     "name": "stdout",
     "output_type": "stream",
     "text": [
      "[########################################] | 100% Completed |  4min 40.5s\r"
     ]
    }
   ],
   "source": [
    "run_jobs = dask.persist(run_futures)\n",
    "progress(run_jobs, notebook=False)"
   ]
  },
  {
   "cell_type": "code",
   "execution_count": 18,
   "metadata": {},
   "outputs": [
    {
     "name": "stdout",
     "output_type": "stream",
     "text": [
      "done.\n"
     ]
    }
   ],
   "source": [
    "print('done.')"
   ]
  }
 ],
 "metadata": {
  "kernelspec": {
   "display_name": "Python 3 unstable (using the module python3/unstable)",
   "language": "python",
   "name": "python3_unstable"
  },
  "language_info": {
   "codemirror_mode": {
    "name": "ipython",
    "version": 3
   },
   "file_extension": ".py",
   "mimetype": "text/x-python",
   "name": "python",
   "nbconvert_exporter": "python",
   "pygments_lexer": "ipython3",
   "version": "3.7.8"
  }
 },
 "nbformat": 4,
 "nbformat_minor": 4
}
