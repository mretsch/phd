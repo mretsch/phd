{
 "cells": [
  {
   "cell_type": "code",
   "execution_count": 1,
   "metadata": {},
   "outputs": [],
   "source": [
    "from getpass import getuser # Libaray to copy things\n",
    "from pathlib import Path # Object oriented libary to deal with paths\n",
    "import os\n",
    "from tempfile import NamedTemporaryFile, TemporaryDirectory # Creating temporary Files/Dirs\n",
    "from subprocess import run, PIPE\n",
    "import sys\n",
    " \n",
    "import dask # Distributed data libary\n",
    "from dask_jobqueue import SLURMCluster # Setting up distributed memories via slurm\n",
    "from distributed import Client, progress, wait # Libaray to orchestrate distributed resources\n",
    "\n",
    "import xarray as xr # Libary to work with labeled n-dimensional data and dask\n",
    "import numpy as np\n",
    "import skimage.util as sutil\n",
    "import matplotlib.pyplot as plt\n",
    "\n",
    "# sys.path.insert(0, os.path.abspath('/home/mpim/m300414/phd/'))\n",
    "from org_metrics import Pairs, gen_regionprops_objects_all, gen_shapely_objects_all, gen_tuplelist\n",
    "from org_metrics import radar_organisation_metric, avg_area, lower_rom_limit"
   ]
  },
  {
   "cell_type": "code",
   "execution_count": 2,
   "metadata": {},
   "outputs": [],
   "source": [
    "import warnings\n",
    "warnings.filterwarnings(action='ignore')"
   ]
  },
  {
   "cell_type": "code",
   "execution_count": 3,
   "metadata": {},
   "outputs": [],
   "source": [
    "# Set some user specific variables\n",
    "scratch_dir = Path('/scratch') / getuser()[0] / getuser() # Define the users scratch dir\n",
    "\n",
    "# Create a temp directory where the output of distributed cluster will be written to, after this notebook\n",
    "# is closed the temp directory will be closed\n",
    "dask_tmp_dir = TemporaryDirectory(dir=scratch_dir, prefix='rome_')\n",
    "cluster = SLURMCluster(memory='500GiB',\n",
    "                       cores=72,\n",
    "                       project='mh0731',\n",
    "                       walltime='01:20:00',\n",
    "                       queue='gpu',\n",
    "                       name='rome',\n",
    "                       scheduler_options={'dashboard_address': ':12435'},\n",
    "                       local_directory='/home/mpim/m300414/phd/Notebooks/',\n",
    "                       job_extra=[f'-J rome', \n",
    "                                  f'-D /home/mpim/m300414/phd/Notebooks/',\n",
    "                                  f'--begin=now',\n",
    "                                  f'--output={dask_tmp_dir.name}/LOG_cluster.%j.o',\n",
    "                                  f'--output={dask_tmp_dir.name}/LOG_cluster.%j.o'\n",
    "                                 ],\n",
    "                       interface='ib0')\n",
    "\n",
    "cluster.scale(jobs=2) # requests whole nodes\n",
    "dask_client = Client(cluster)\n",
    "dask_client.wait_for_workers(18) # gpu-partition has 9 workers per node"
   ]
  },
  {
   "cell_type": "code",
   "execution_count": 12,
   "metadata": {},
   "outputs": [
    {
     "data": {
      "text/plain": [
       "['/work/mh0731/m300414/DyWinter_b10/Cartesian_Grid/rh500_20200131T0000_reggrid.nc',\n",
       " '/work/mh0731/m300414/DyWinter_b10/Cartesian_Grid/rh500_20200201T0000_reggrid.nc',\n",
       " '/work/mh0731/m300414/DyWinter_b10/Cartesian_Grid/rh500_20200202T0000_reggrid.nc',\n",
       " '/work/mh0731/m300414/DyWinter_b10/Cartesian_Grid/rh500_20200203T0000_reggrid.nc',\n",
       " '/work/mh0731/m300414/DyWinter_b10/Cartesian_Grid/rh500_20200204T0000_reggrid.nc',\n",
       " '/work/mh0731/m300414/DyWinter_b10/Cartesian_Grid/rh500_20200205T0000_reggrid.nc',\n",
       " '/work/mh0731/m300414/DyWinter_b10/Cartesian_Grid/rh500_20200206T0000_reggrid.nc',\n",
       " '/work/mh0731/m300414/DyWinter_b10/Cartesian_Grid/rh500_20200207T0000_reggrid.nc',\n",
       " '/work/mh0731/m300414/DyWinter_b10/Cartesian_Grid/rh500_20200208T0000_reggrid.nc',\n",
       " '/work/mh0731/m300414/DyWinter_b10/Cartesian_Grid/rh500_20200209T0000_reggrid.nc',\n",
       " '/work/mh0731/m300414/DyWinter_b10/Cartesian_Grid/rh500_20200210T0000_reggrid.nc',\n",
       " '/work/mh0731/m300414/DyWinter_b10/Cartesian_Grid/rh500_20200211T0000_reggrid.nc',\n",
       " '/work/mh0731/m300414/DyWinter_b10/Cartesian_Grid/rh500_20200212T0000_reggrid.nc',\n",
       " '/work/mh0731/m300414/DyWinter_b10/Cartesian_Grid/rh500_20200213T0000_reggrid.nc',\n",
       " '/work/mh0731/m300414/DyWinter_b10/Cartesian_Grid/rh500_20200214T0000_reggrid.nc',\n",
       " '/work/mh0731/m300414/DyWinter_b10/Cartesian_Grid/rh500_20200215T0000_reggrid.nc',\n",
       " '/work/mh0731/m300414/DyWinter_b10/Cartesian_Grid/rh500_20200216T0000_reggrid.nc',\n",
       " '/work/mh0731/m300414/DyWinter_b10/Cartesian_Grid/rh500_20200217T0000_reggrid.nc',\n",
       " '/work/mh0731/m300414/DyWinter_b10/Cartesian_Grid/rh500_20200218T0000_reggrid.nc',\n",
       " '/work/mh0731/m300414/DyWinter_b10/Cartesian_Grid/rh500_20200219T0000_reggrid.nc',\n",
       " '/work/mh0731/m300414/DyWinter_b10/Cartesian_Grid/rh500_20200220T0000_reggrid.nc',\n",
       " '/work/mh0731/m300414/DyWinter_b10/Cartesian_Grid/rh500_20200221T0000_reggrid.nc',\n",
       " '/work/mh0731/m300414/DyWinter_b10/Cartesian_Grid/rh500_20200222T0000_reggrid.nc',\n",
       " '/work/mh0731/m300414/DyWinter_b10/Cartesian_Grid/rh500_20200223T0000_reggrid.nc',\n",
       " '/work/mh0731/m300414/DyWinter_b10/Cartesian_Grid/rh500_20200224T0000_reggrid.nc',\n",
       " '/work/mh0731/m300414/DyWinter_b10/Cartesian_Grid/rh500_20200225T0000_reggrid.nc',\n",
       " '/work/mh0731/m300414/DyWinter_b10/Cartesian_Grid/rh500_20200226T0000_reggrid.nc',\n",
       " '/work/mh0731/m300414/DyWinter_b10/Cartesian_Grid/rh500_20200227T0000_reggrid.nc',\n",
       " '/work/mh0731/m300414/DyWinter_b10/Cartesian_Grid/rh500_20200228T0000_reggrid.nc',\n",
       " '/work/mh0731/m300414/DyWinter_b10/Cartesian_Grid/rh500_20200229T0000_reggrid.nc',\n",
       " '/work/mh0731/m300414/DyWinter_b10/Cartesian_Grid/rh500_20200301T0000_reggrid.nc']"
      ]
     },
     "execution_count": 12,
     "metadata": {},
     "output_type": "execute_result"
    }
   ],
   "source": [
    "data_path = Path('/work/mh0731/m300414/DyWinter_b10/Cartesian_Grid/')\n",
    "glob_pattern_2d = 'rh500_*.nc'\n",
    " \n",
    "# Collect all file names with pathlib's rglob and list compressions \n",
    "file_names = sorted([str(f) for f in data_path.rglob(f'{glob_pattern_2d}')])[11:]\n",
    "file_names"
   ]
  },
  {
   "cell_type": "code",
   "execution_count": 13,
   "metadata": {},
   "outputs": [],
   "source": [
    "@dask.delayed\n",
    "def slide_domain_over_tropics(var_large_field):\n",
    "    \n",
    "#     domain_size = (117, 117)\n",
    "#     assert domain_size[0]     == domain_size[1] # domain is quadratic\n",
    "#     assert domain_size[0] % 2 == 1              # number of pixels is not even\n",
    "#     stride_between_domains = domain_size[0] // 2 + 1\n",
    "    \n",
    "#     radar_domains = sutil.view_as_windows(\n",
    "#         np.array(var_large_field),\n",
    "#         window_shape=domain_size,\n",
    "#         step=stride_between_domains\n",
    "#     )\n",
    "    \n",
    "#     # define the array (map) to contain calculated values\n",
    "#     map_shape = radar_domains.shape[:2]\n",
    "#     mid_point = domain_size[0] // 2\n",
    "#     latitude  = var_large_field['lat'][mid_point :: stride_between_domains][:map_shape[0]]\n",
    "#     longitude = var_large_field['lon'][mid_point :: stride_between_domains][:map_shape[1]]\n",
    "#     metric_map = xr.DataArray(\n",
    "#         np.zeros(shape=map_shape),\n",
    "#         coords={'lat': latitude, 'lon': longitude},\n",
    "#         dims=('lat', 'lon')\n",
    "#     )\n",
    "\n",
    "    domain_size = (117, 117)\n",
    "    half_size = domain_size[0] // 2\n",
    "    assert domain_size[0]     == domain_size[1] # domain is quadratic\n",
    "    assert domain_size[0] % 2 == 1              # number of pixels is not even\n",
    "    stride_between_domains = half_size + 1\n",
    "    \n",
    "    # add half the domain on both right-left sides, but one extra on left side\n",
    "    halo_field = xr.DataArray(np.zeros(shape=(var_large_field.shape[0],\n",
    "                                              var_large_field.shape[1] + (2 * half_size) + 1)))\n",
    "    # Halo swap\n",
    "    halo_field[:,           :(half_size + 1)] = var_large_field[:, -(half_size + 1):          ]\n",
    "    halo_field[:, -half_size:               ] = var_large_field[:,                 :half_size ]\n",
    "    # Inner part\n",
    "    halo_field[:, (half_size + 1):-half_size] = var_large_field[:, :]\n",
    "    \n",
    "    radar_domains = sutil.view_as_windows(\n",
    "        np.array(halo_field),\n",
    "        window_shape=domain_size,\n",
    "        step=stride_between_domains\n",
    "    )\n",
    "\n",
    "    map_shape = radar_domains.shape[:2]\n",
    "    latitude  = var_large_field['lat'][half_size :: stride_between_domains][:map_shape[0]]\n",
    "    longitude = var_large_field['lon'][0         :: stride_between_domains][:map_shape[1]]\n",
    "    \n",
    "    metric_map = xr.DataArray(\n",
    "        np.zeros(shape=map_shape),\n",
    "        coords={'lat': latitude, 'lon': longitude},\n",
    "        dims=('lat', 'lon')\n",
    "    )\n",
    "    \n",
    "    for i in range(map_shape[0]):\n",
    "        for j in range(map_shape[1]):\n",
    "            metric_map[i, j] = radar_domains[i, j, :, :].mean()\n",
    "                    \n",
    "    return metric_map"
   ]
  },
  {
   "cell_type": "code",
   "execution_count": 14,
   "metadata": {},
   "outputs": [],
   "source": [
    "var_to_process = xr.open_mfdataset(file_names)['r'].squeeze()"
   ]
  },
  {
   "cell_type": "code",
   "execution_count": 15,
   "metadata": {},
   "outputs": [],
   "source": [
    "# parallelisation on time level\n",
    "map_singletime = []\n",
    "for t in var_to_process.time:\n",
    "    map_singletime.append( slide_domain_over_tropics(var_to_process.sel(time=str(t.values)) ))"
   ]
  },
  {
   "cell_type": "code",
   "execution_count": 16,
   "metadata": {},
   "outputs": [
    {
     "name": "stdout",
     "output_type": "stream",
     "text": [
      "[########################################] | 100% Completed | 35min 39.3s\r"
     ]
    }
   ],
   "source": [
    "jobs = dask.persist(map_singletime)\n",
    "progress(jobs, notebook=False)"
   ]
  },
  {
   "cell_type": "code",
   "execution_count": 17,
   "metadata": {},
   "outputs": [],
   "source": [
    "result = xr.concat(dask.compute(*map_singletime), dim=var_to_process.time)"
   ]
  },
  {
   "cell_type": "code",
   "execution_count": 18,
   "metadata": {},
   "outputs": [],
   "source": [
    "result.name = 'rh_avg'\n",
    "result.attrs['units'] = '%'\n",
    "result.attrs['long_name'] = 'Avg. RH at 500hPa across (117*2.5)x(117*2.5) km domain.'"
   ]
  },
  {
   "cell_type": "code",
   "execution_count": 19,
   "metadata": {},
   "outputs": [],
   "source": [
    "result.to_netcdf('/work/mh0731/m300414/DyWinter_b10/RadarDomain_Grid/rh500.nc')"
   ]
  }
 ],
 "metadata": {
  "kernelspec": {
   "display_name": "Python 3 unstable (using the module python3/unstable)",
   "language": "python",
   "name": "python3_unstable"
  },
  "language_info": {
   "codemirror_mode": {
    "name": "ipython",
    "version": 3
   },
   "file_extension": ".py",
   "mimetype": "text/x-python",
   "name": "python",
   "nbconvert_exporter": "python",
   "pygments_lexer": "ipython3",
   "version": "3.7.8"
  }
 },
 "nbformat": 4,
 "nbformat_minor": 4
}
