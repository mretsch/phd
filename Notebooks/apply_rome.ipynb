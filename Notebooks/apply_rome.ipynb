{
 "cells": [
  {
   "cell_type": "code",
   "execution_count": 1,
   "metadata": {},
   "outputs": [],
   "source": [
    "from getpass import getuser # Libaray to copy things\n",
    "from pathlib import Path # Object oriented libary to deal with paths\n",
    "import os\n",
    "from tempfile import NamedTemporaryFile, TemporaryDirectory # Creating temporary Files/Dirs\n",
    "from subprocess import run, PIPE\n",
    "import sys\n",
    " \n",
    "import dask # Distributed data libary\n",
    "from dask_jobqueue import SLURMCluster # Setting up distributed memories via slurm\n",
    "from distributed import Client, progress, wait # Libaray to orchestrate distributed resources\n",
    "\n",
    "import xarray as xr # Libary to work with labeled n-dimensional data and dask\n",
    "import numpy as np\n",
    "import skimage.util as sutil\n",
    "import matplotlib.pyplot as plt\n",
    "\n",
    "# sys.path.insert(0, os.path.abspath('/home/mpim/m300414/phd/'))\n",
    "from org_metrics import Pairs, gen_regionprops_objects_all, gen_shapely_objects_all, gen_tuplelist, radar_organisation_metric"
   ]
  },
  {
   "cell_type": "code",
   "execution_count": 2,
   "metadata": {},
   "outputs": [],
   "source": [
    "import warnings\n",
    "warnings.filterwarnings(action='ignore')"
   ]
  },
  {
   "cell_type": "code",
   "execution_count": 3,
   "metadata": {},
   "outputs": [],
   "source": [
    "# Set some user specific variables\n",
    "scratch_dir = Path('/scratch') / getuser()[0] / getuser() # Define the users scratch dir\n",
    "\n",
    "# Create a temp directory where the output of distributed cluster will be written to, after this notebook\n",
    "# is closed the temp directory will be closed\n",
    "dask_tmp_dir = TemporaryDirectory(dir=scratch_dir, prefix='rome_')\n",
    "cluster = SLURMCluster(memory='500GiB',\n",
    "                       cores=72,\n",
    "                       project='mh0731',\n",
    "                       walltime='01:25:00',\n",
    "                       queue='gpu',\n",
    "                       name='rome',\n",
    "                       scheduler_options={'dashboard_address': ':12435'},\n",
    "                       local_directory='/home/mpim/m300414/phd/Notebooks/',\n",
    "                       job_extra=[f'-J rome', \n",
    "                                  f'-D /home/mpim/m300414/phd/Notebooks/',\n",
    "                                  f'--begin=now',\n",
    "                                  f'--output={dask_tmp_dir.name}/LOG_cluster.%j.o',\n",
    "                                  f'--output={dask_tmp_dir.name}/LOG_cluster.%j.o'\n",
    "                                 ],\n",
    "                       interface='ib0')\n",
    "\n",
    "cluster.scale(jobs=2) # requests whole nodes\n",
    "dask_client = Client(cluster)\n",
    "dask_client.wait_for_workers(18) # gpu-partition has 9 workers per node"
   ]
  },
  {
   "cell_type": "code",
   "execution_count": 4,
   "metadata": {},
   "outputs": [
    {
     "data": {
      "text/plain": [
       "['/work/mh0731/m300414/DyWinter_b10/Fake_Steiner/bool_20200131T0000_7mmhour.nc',\n",
       " '/work/mh0731/m300414/DyWinter_b10/Fake_Steiner/bool_20200201T0000_7mmhour.nc',\n",
       " '/work/mh0731/m300414/DyWinter_b10/Fake_Steiner/bool_20200202T0000_7mmhour.nc',\n",
       " '/work/mh0731/m300414/DyWinter_b10/Fake_Steiner/bool_20200203T0000_7mmhour.nc',\n",
       " '/work/mh0731/m300414/DyWinter_b10/Fake_Steiner/bool_20200204T0000_7mmhour.nc',\n",
       " '/work/mh0731/m300414/DyWinter_b10/Fake_Steiner/bool_20200205T0000_7mmhour.nc',\n",
       " '/work/mh0731/m300414/DyWinter_b10/Fake_Steiner/bool_20200206T0000_7mmhour.nc',\n",
       " '/work/mh0731/m300414/DyWinter_b10/Fake_Steiner/bool_20200207T0000_7mmhour.nc',\n",
       " '/work/mh0731/m300414/DyWinter_b10/Fake_Steiner/bool_20200208T0000_7mmhour.nc',\n",
       " '/work/mh0731/m300414/DyWinter_b10/Fake_Steiner/bool_20200209T0000_7mmhour.nc',\n",
       " '/work/mh0731/m300414/DyWinter_b10/Fake_Steiner/bool_20200210T0000_7mmhour.nc',\n",
       " '/work/mh0731/m300414/DyWinter_b10/Fake_Steiner/bool_20200211T0000_7mmhour.nc',\n",
       " '/work/mh0731/m300414/DyWinter_b10/Fake_Steiner/bool_20200212T0000_7mmhour.nc',\n",
       " '/work/mh0731/m300414/DyWinter_b10/Fake_Steiner/bool_20200213T0000_7mmhour.nc',\n",
       " '/work/mh0731/m300414/DyWinter_b10/Fake_Steiner/bool_20200214T0000_7mmhour.nc',\n",
       " '/work/mh0731/m300414/DyWinter_b10/Fake_Steiner/bool_20200215T0000_7mmhour.nc',\n",
       " '/work/mh0731/m300414/DyWinter_b10/Fake_Steiner/bool_20200216T0000_7mmhour.nc',\n",
       " '/work/mh0731/m300414/DyWinter_b10/Fake_Steiner/bool_20200217T0000_7mmhour.nc',\n",
       " '/work/mh0731/m300414/DyWinter_b10/Fake_Steiner/bool_20200218T0000_7mmhour.nc',\n",
       " '/work/mh0731/m300414/DyWinter_b10/Fake_Steiner/bool_20200219T0000_7mmhour.nc',\n",
       " '/work/mh0731/m300414/DyWinter_b10/Fake_Steiner/bool_20200220T0000_7mmhour.nc',\n",
       " '/work/mh0731/m300414/DyWinter_b10/Fake_Steiner/bool_20200221T0000_7mmhour.nc',\n",
       " '/work/mh0731/m300414/DyWinter_b10/Fake_Steiner/bool_20200222T0000_7mmhour.nc',\n",
       " '/work/mh0731/m300414/DyWinter_b10/Fake_Steiner/bool_20200223T0000_7mmhour.nc',\n",
       " '/work/mh0731/m300414/DyWinter_b10/Fake_Steiner/bool_20200224T0000_7mmhour.nc',\n",
       " '/work/mh0731/m300414/DyWinter_b10/Fake_Steiner/bool_20200225T0000_7mmhour.nc',\n",
       " '/work/mh0731/m300414/DyWinter_b10/Fake_Steiner/bool_20200226T0000_7mmhour.nc',\n",
       " '/work/mh0731/m300414/DyWinter_b10/Fake_Steiner/bool_20200227T0000_7mmhour.nc',\n",
       " '/work/mh0731/m300414/DyWinter_b10/Fake_Steiner/bool_20200228T0000_7mmhour.nc',\n",
       " '/work/mh0731/m300414/DyWinter_b10/Fake_Steiner/bool_20200229T0000_7mmhour.nc',\n",
       " '/work/mh0731/m300414/DyWinter_b10/Fake_Steiner/bool_20200301T0000_7mmhour.nc']"
      ]
     },
     "execution_count": 4,
     "metadata": {},
     "output_type": "execute_result"
    }
   ],
   "source": [
    "data_path = Path('/work/mh0731/m300414/DyWinter_b10/Fake_Steiner/')\n",
    "glob_pattern_2d = 'bool_*[0-9]_7mmhour.nc'\n",
    " \n",
    "# Collect all file names with pathlib's rglob and list compressions \n",
    "file_names = sorted([str(f) for f in data_path.rglob(f'{glob_pattern_2d}')])\n",
    "file_names"
   ]
  },
  {
   "cell_type": "code",
   "execution_count": 5,
   "metadata": {},
   "outputs": [],
   "source": [
    "def rome_per_domain(domain):\n",
    "    \n",
    "    # the generators expect time-dimension to loop over. We don't have it, so put list around domain.\n",
    "    # the generators return a list each time, so only take [0]-element to avoid single list in list.\n",
    "    objects_as_regionprop = list(gen_regionprops_objects_all([domain]))[0]\n",
    "    objects_as_shapely    = list(gen_shapely_objects_all    ([domain]))[0]\n",
    "    \n",
    "    \n",
    "    pairs_regionprop = Pairs(\n",
    "        pairlist=list(gen_tuplelist(objects_as_regionprop))\n",
    "    )\n",
    "    \n",
    "    pairs_shapely    = Pairs(\n",
    "        pairlist=list(gen_tuplelist(objects_as_shapely))\n",
    "    )\n",
    "\n",
    "    return radar_organisation_metric(s_pairs=pairs_shapely, r_pairs=pairs_regionprop)"
   ]
  },
  {
   "cell_type": "code",
   "execution_count": 6,
   "metadata": {},
   "outputs": [],
   "source": [
    "@dask.delayed\n",
    "def rome(classifier):\n",
    "    \n",
    "\n",
    "    domain_size = (117, 117)\n",
    "    assert domain_size[0]     == domain_size[1] # domain is quadratic\n",
    "    assert domain_size[0] % 2 == 1              # number of pixels is not even\n",
    "    stride_between_domains = domain_size[0] // 2 + 1\n",
    "    \n",
    "    radar_domains = sutil.view_as_windows(\n",
    "        np.array(classifier),\n",
    "        window_shape=domain_size,\n",
    "        step=stride_between_domains\n",
    "    )\n",
    "    \n",
    "    # define the array to contain ROME-values\n",
    "    rome_map_shape = radar_domains.shape[:2]\n",
    "    mid_point = domain_size[0] // 2\n",
    "    rome_latitude  = classifier['lat'][mid_point :: stride_between_domains][:rome_map_shape[0]]\n",
    "    rome_longitude = classifier['lon'][mid_point :: stride_between_domains][:rome_map_shape[1]]\n",
    "    rome_map = xr.DataArray(\n",
    "        np.zeros(shape=rome_map_shape),\n",
    "        coords={'lat': rome_latitude, 'lon': rome_longitude},\n",
    "        dims=('lat', 'lon')\n",
    "    )\n",
    "    \n",
    "    for i in range(rome_map_shape[0]):\n",
    "        for j in range(rome_map_shape[1]):\n",
    "            rome_map[i, j] = rome_per_domain( radar_domains[i, j, :, :] )\n",
    "            \n",
    "    run_jobs = dask.persist(rome_map)\n",
    "             \n",
    "    return rome_map"
   ]
  },
  {
   "cell_type": "code",
   "execution_count": 7,
   "metadata": {},
   "outputs": [],
   "source": [
    "fakesteiner = xr.open_mfdataset(file_names)['conv_rain_class']\n",
    "    \n",
    "# parallelisation on time level\n",
    "rome_map_singletime = []\n",
    "for t in fakesteiner.time:\n",
    "    rome_map_singletime.append( rome(fakesteiner.sel(time=str(t.values)) ))\n"
   ]
  },
  {
   "cell_type": "code",
   "execution_count": 8,
   "metadata": {},
   "outputs": [
    {
     "name": "stdout",
     "output_type": "stream",
     "text": [
      "[########################################] | 100% Completed |  1hr 20min 12.6s\r"
     ]
    }
   ],
   "source": [
    "jobs = dask.persist(rome_map_singletime)\n",
    "progress(jobs, notebook=False)"
   ]
  },
  {
   "cell_type": "code",
   "execution_count": 9,
   "metadata": {},
   "outputs": [],
   "source": [
    "rome = xr.concat(dask.compute(*rome_map_singletime), dim=fakesteiner.time)"
   ]
  },
  {
   "cell_type": "code",
   "execution_count": 12,
   "metadata": {},
   "outputs": [],
   "source": [
    "rome.name = 'rome'\n",
    "rome *= 6.25\n",
    "rome.attrs['units'] = 'km^2'\n",
    "rome.attrs['long_name'] = 'ROME across (117*2.5)x(117*2.5) km.'\n",
    "rome.attrs['convective_threshold'] = 'Convective pixels > 7 mm/hour.'"
   ]
  },
  {
   "cell_type": "code",
   "execution_count": 14,
   "metadata": {},
   "outputs": [],
   "source": [
    "rome.to_netcdf('/work/mh0731/m300414/DyWinter_b10/ROME/rome_7mmhour.nc')"
   ]
  }
 ],
 "metadata": {
  "kernelspec": {
   "display_name": "Python 3 unstable (using the module python3/unstable)",
   "language": "python",
   "name": "python3_unstable"
  },
  "language_info": {
   "codemirror_mode": {
    "name": "ipython",
    "version": 3
   },
   "file_extension": ".py",
   "mimetype": "text/x-python",
   "name": "python",
   "nbconvert_exporter": "python",
   "pygments_lexer": "ipython3",
   "version": "3.7.8"
  }
 },
 "nbformat": 4,
 "nbformat_minor": 4
}
