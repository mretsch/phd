{
 "cells": [
  {
   "cell_type": "code",
   "execution_count": 6,
   "metadata": {},
   "outputs": [],
   "source": [
    "from getpass import getuser # Libaray to copy things\n",
    "from pathlib import Path # Object oriented libary to deal with paths\n",
    "import os\n",
    "from tempfile import NamedTemporaryFile, TemporaryDirectory # Creating temporary Files/Dirs\n",
    "from subprocess import run, PIPE\n",
    "import sys\n",
    " \n",
    "import dask # Distributed data libary\n",
    "from dask_jobqueue import SLURMCluster # Setting up distributed memories via slurm\n",
    "from distributed import Client, progress, wait # Libaray to orchestrate distributed resources\n",
    "import xarray as xr # Libary to work with labeled n-dimensional data and dask\n",
    "import numpy as np\n",
    "import matplotlib.pyplot as plt"
   ]
  },
  {
   "cell_type": "code",
   "execution_count": 7,
   "metadata": {},
   "outputs": [],
   "source": [
    "import warnings\n",
    "warnings.filterwarnings(action='ignore')"
   ]
  },
  {
   "cell_type": "code",
   "execution_count": 8,
   "metadata": {},
   "outputs": [],
   "source": [
    "# Set some user specific variables\n",
    "scratch_dir = Path('/scratch') / getuser()[0] / getuser() # Define the users scratch dir\n",
    "\n",
    "# Create a temp directory where the output of distributed cluster will be written to, after this notebook\n",
    "# is closed the temp directory will be closed\n",
    "dask_tmp_dir = TemporaryDirectory(dir=scratch_dir, prefix='threshold_')\n",
    "cluster = SLURMCluster(memory='500GiB',\n",
    "                       cores=72,\n",
    "                       project='mh0731',\n",
    "                       walltime='00:25:00',\n",
    "                       queue='gpu',\n",
    "                       name='threshold',\n",
    "                       scheduler_options={'dashboard_address': ':12435'},\n",
    "                       local_directory=dask_tmp_dir.name,\n",
    "                       job_extra=[f'-J thrshld', \n",
    "                                  f'-D {dask_tmp_dir.name}',\n",
    "                                  f'--begin=now',\n",
    "                                  f'--output={dask_tmp_dir.name}/LOG_cluster.%j.o',\n",
    "                                  f'--output={dask_tmp_dir.name}/LOG_cluster.%j.o'\n",
    "                                 ],\n",
    "                       interface='ib0')\n",
    "\n",
    "cluster.scale(jobs=1) # requests whole nodes\n",
    "dask_client = Client(cluster)\n",
    "dask_client.wait_for_workers(9) # gpu-partition has 9 workers per node"
   ]
  },
  {
   "cell_type": "code",
   "execution_count": 9,
   "metadata": {},
   "outputs": [],
   "source": [
    "data_path = Path('/work/mh0731/m300414/DyWinter_b10/Cartesian_Grid/')\n",
    "glob_pattern_2d = 'pr_*[0-9]_reggrid.nc'\n",
    " \n",
    "# Collect all file names with pathlib's rglob and list compressions \n",
    "# dont take first ten days, they are spin-up\n",
    "file_names = sorted([str(f) for f in data_path.rglob(f'{glob_pattern_2d}')])[10:-1] #[1:]"
   ]
  },
  {
   "cell_type": "code",
   "execution_count": 10,
   "metadata": {},
   "outputs": [
    {
     "data": {
      "text/plain": [
       "['/work/mh0731/m300414/DyWinter_b10/Cartesian_Grid/pr_20200131T0000_reggrid.nc',\n",
       " '/work/mh0731/m300414/DyWinter_b10/Cartesian_Grid/pr_20200201T0000_reggrid.nc',\n",
       " '/work/mh0731/m300414/DyWinter_b10/Cartesian_Grid/pr_20200202T0000_reggrid.nc',\n",
       " '/work/mh0731/m300414/DyWinter_b10/Cartesian_Grid/pr_20200203T0000_reggrid.nc',\n",
       " '/work/mh0731/m300414/DyWinter_b10/Cartesian_Grid/pr_20200204T0000_reggrid.nc',\n",
       " '/work/mh0731/m300414/DyWinter_b10/Cartesian_Grid/pr_20200205T0000_reggrid.nc',\n",
       " '/work/mh0731/m300414/DyWinter_b10/Cartesian_Grid/pr_20200206T0000_reggrid.nc',\n",
       " '/work/mh0731/m300414/DyWinter_b10/Cartesian_Grid/pr_20200207T0000_reggrid.nc',\n",
       " '/work/mh0731/m300414/DyWinter_b10/Cartesian_Grid/pr_20200208T0000_reggrid.nc',\n",
       " '/work/mh0731/m300414/DyWinter_b10/Cartesian_Grid/pr_20200209T0000_reggrid.nc',\n",
       " '/work/mh0731/m300414/DyWinter_b10/Cartesian_Grid/pr_20200210T0000_reggrid.nc',\n",
       " '/work/mh0731/m300414/DyWinter_b10/Cartesian_Grid/pr_20200211T0000_reggrid.nc',\n",
       " '/work/mh0731/m300414/DyWinter_b10/Cartesian_Grid/pr_20200212T0000_reggrid.nc',\n",
       " '/work/mh0731/m300414/DyWinter_b10/Cartesian_Grid/pr_20200213T0000_reggrid.nc',\n",
       " '/work/mh0731/m300414/DyWinter_b10/Cartesian_Grid/pr_20200214T0000_reggrid.nc',\n",
       " '/work/mh0731/m300414/DyWinter_b10/Cartesian_Grid/pr_20200215T0000_reggrid.nc',\n",
       " '/work/mh0731/m300414/DyWinter_b10/Cartesian_Grid/pr_20200216T0000_reggrid.nc',\n",
       " '/work/mh0731/m300414/DyWinter_b10/Cartesian_Grid/pr_20200217T0000_reggrid.nc',\n",
       " '/work/mh0731/m300414/DyWinter_b10/Cartesian_Grid/pr_20200218T0000_reggrid.nc',\n",
       " '/work/mh0731/m300414/DyWinter_b10/Cartesian_Grid/pr_20200219T0000_reggrid.nc',\n",
       " '/work/mh0731/m300414/DyWinter_b10/Cartesian_Grid/pr_20200220T0000_reggrid.nc',\n",
       " '/work/mh0731/m300414/DyWinter_b10/Cartesian_Grid/pr_20200221T0000_reggrid.nc',\n",
       " '/work/mh0731/m300414/DyWinter_b10/Cartesian_Grid/pr_20200222T0000_reggrid.nc',\n",
       " '/work/mh0731/m300414/DyWinter_b10/Cartesian_Grid/pr_20200223T0000_reggrid.nc',\n",
       " '/work/mh0731/m300414/DyWinter_b10/Cartesian_Grid/pr_20200224T0000_reggrid.nc',\n",
       " '/work/mh0731/m300414/DyWinter_b10/Cartesian_Grid/pr_20200225T0000_reggrid.nc',\n",
       " '/work/mh0731/m300414/DyWinter_b10/Cartesian_Grid/pr_20200226T0000_reggrid.nc',\n",
       " '/work/mh0731/m300414/DyWinter_b10/Cartesian_Grid/pr_20200227T0000_reggrid.nc',\n",
       " '/work/mh0731/m300414/DyWinter_b10/Cartesian_Grid/pr_20200228T0000_reggrid.nc',\n",
       " '/work/mh0731/m300414/DyWinter_b10/Cartesian_Grid/pr_20200229T0000_reggrid.nc',\n",
       " '/work/mh0731/m300414/DyWinter_b10/Cartesian_Grid/pr_20200301T0000_reggrid.nc']"
      ]
     },
     "execution_count": 10,
     "metadata": {},
     "output_type": "execute_result"
    }
   ],
   "source": [
    "file_names"
   ]
  },
  {
   "cell_type": "code",
   "execution_count": 11,
   "metadata": {},
   "outputs": [],
   "source": [
    "@dask.delayed\n",
    "def get_convective_rain(file, rain_threshold):\n",
    "    rain = xr.open_dataset(file)['pr']\n",
    "    mask = rain > rain_threshold\n",
    "    mask.name = 'conv_rain_class'\n",
    "    mask.attrs['long_name'] = 'Boolean for convective precipitation'\n",
    "\n",
    "    outfile = Path('/work/mh0731/m300414/DyWinter_b10/Fake_Steiner/') / f'bool_{file[-24:-11]}_{rain_threshold*3600:.0f}mmhour.nc'\n",
    "    mask.to_netcdf(outfile)"
   ]
  },
  {
   "cell_type": "markdown",
   "metadata": {},
   "source": [
    "Bring data into distributed memory via persist()"
   ]
  },
  {
   "cell_type": "code",
   "execution_count": 12,
   "metadata": {},
   "outputs": [],
   "source": [
    "def run_data(rain_threshold_in_mm):\n",
    "    rain_threshold       = rain_threshold_in_mm / 3600\n",
    "    \n",
    "    rain_futures = []\n",
    "    for file in file_names:# for i in [17, 29, 30]]:\n",
    "        rain_futures.append(get_convective_rain(file, rain_threshold))\n",
    "    \n",
    "    # Bring data into distributed memory via persist()\n",
    "    jobs = dask.persist(rain_futures)\n",
    "    progress(jobs, notebook=False)\n",
    "    \n",
    "    return rain_futures"
   ]
  },
  {
   "cell_type": "markdown",
   "metadata": {},
   "source": [
    "Gather data into single memory with compute(). Here this acts on data which already was brought into distributed memory via persist(), thus it should be fast."
   ]
  },
  {
   "cell_type": "code",
   "execution_count": 13,
   "metadata": {},
   "outputs": [],
   "source": [
    "def gather_data(futures):\n",
    "    _ = dask.compute(*futures)"
   ]
  },
  {
   "cell_type": "code",
   "execution_count": 14,
   "metadata": {},
   "outputs": [
    {
     "name": "stdout",
     "output_type": "stream",
     "text": [
      "[########################################] | 100% Completed |  2min 17.6s\r"
     ]
    }
   ],
   "source": [
    "threshold = 10 # rain threshold above which rain is considered 'convective'\n",
    "dask_futures = run_data(threshold)\n",
    "gather_data(dask_futures)"
   ]
  },
  {
   "cell_type": "code",
   "execution_count": 15,
   "metadata": {},
   "outputs": [
    {
     "name": "stdout",
     "output_type": "stream",
     "text": [
      "done.\n"
     ]
    }
   ],
   "source": [
    "print('done.')"
   ]
  }
 ],
 "metadata": {
  "kernelspec": {
   "display_name": "Python 3 unstable (using the module python3/unstable)",
   "language": "python",
   "name": "python3_unstable"
  },
  "language_info": {
   "codemirror_mode": {
    "name": "ipython",
    "version": 3
   },
   "file_extension": ".py",
   "mimetype": "text/x-python",
   "name": "python",
   "nbconvert_exporter": "python",
   "pygments_lexer": "ipython3",
   "version": "3.8.6"
  }
 },
 "nbformat": 4,
 "nbformat_minor": 4
}
