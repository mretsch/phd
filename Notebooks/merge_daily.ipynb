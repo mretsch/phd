{
 "cells": [
  {
   "cell_type": "code",
   "execution_count": 34,
   "metadata": {},
   "outputs": [],
   "source": [
    "from getpass import getuser # Libaray to copy things\n",
    "from pathlib import Path # Object oriented libary to deal with paths\n",
    "import os\n",
    "from tempfile import NamedTemporaryFile, TemporaryDirectory # Creating temporary Files/Dirs\n",
    "from subprocess import run, PIPE\n",
    "import sys\n",
    " \n",
    "import dask # Distributed data libary\n",
    "import numpy as np\n",
    "from dask_jobqueue import SLURMCluster # Setting up distributed memories via slurm\n",
    "from distributed import Client, progress, wait # Libaray to orchestrate distributed resources\n",
    "import xarray as xr # Libary to work with labeled n-dimensional data and dask"
   ]
  },
  {
   "cell_type": "code",
   "execution_count": 35,
   "metadata": {},
   "outputs": [],
   "source": [
    "import warnings\n",
    "warnings.filterwarnings(action='ignore')"
   ]
  },
  {
   "cell_type": "code",
   "execution_count": 36,
   "metadata": {},
   "outputs": [],
   "source": [
    "home = Path(os.path.expanduser('~'))\n",
    "work_dir = Path('/work/mh0731/m300414/')\n",
    "gridfile = Path('/pool/data/ICON/grids/public/mpim/0015/icon_grid_0015_R02B09_G.nc')\n",
    "input_path = work_dir / 'DyWinter_b9'\n",
    "days_from_files = [str(f)[-16:-8] for f in input_path.rglob(f'*.nc')]"
   ]
  },
  {
   "cell_type": "code",
   "execution_count": 37,
   "metadata": {},
   "outputs": [
    {
     "data": {
      "text/plain": [
       "array(['20200120', '20200121', '20200122', '20200123', '20200124',\n",
       "       '20200125', '20200126', '20200127', '20200128', '20200129',\n",
       "       '20200130', '20200131', '20200201', '20200202', '20200203',\n",
       "       '20200204', '20200205', '20200206', '20200207', '20200208',\n",
       "       '20200209', '20200210', '20200211', '20200212', '20200213',\n",
       "       '20200214', '20200215', '20200216', '20200217', '20200218',\n",
       "       '20200219', '20200220', '20200221', '20200222', '20200223',\n",
       "       '20200224', '20200225', '20200226', '20200227', '20200228',\n",
       "       '20200229', '20200301'], dtype='<U8')"
      ]
     },
     "execution_count": 37,
     "metadata": {},
     "output_type": "execute_result"
    }
   ],
   "source": [
    "unique_days = np.unique(np.array(days_from_files))\n",
    "unique_days"
   ]
  },
  {
   "cell_type": "code",
   "execution_count": 40,
   "metadata": {},
   "outputs": [],
   "source": [
    "# Set some user specific variables\n",
    "scratch_dir = Path('/scratch') / getuser()[0] / getuser() # Define the users scratch dir\n",
    "# Create a temp directory where the output of distributed cluster will be written to, after this notebook\n",
    "# is closed the temp directory will be closed\n",
    "dask_tmp_dir = TemporaryDirectory(dir=scratch_dir, prefix='PostProc')\n",
    "cluster = SLURMCluster(memory='500GiB',\n",
    "                       cores=72,\n",
    "                       project='mh0731',\n",
    "                       walltime='1:00:00',\n",
    "                       queue='gpu',\n",
    "                       name='PostProc',\n",
    "                       scheduler_options={'dashboard_address': ':12435'},\n",
    "                       local_directory=dask_tmp_dir.name,\n",
    "                       job_extra=[f'-J PostProc', \n",
    "                                  f'-D {dask_tmp_dir.name}',\n",
    "                                  f'--begin=now',\n",
    "                                  f'--output={dask_tmp_dir.name}/LOG_cluster.%j.o',\n",
    "                                  f'--output={dask_tmp_dir.name}/LOG_cluster.%j.o'\n",
    "                                 ],\n",
    "                       interface='ib0')\n",
    "cluster.scale(jobs=2)\n",
    "dask_client = Client(cluster)\n",
    "dask_client.wait_for_workers(18)"
   ]
  },
  {
   "cell_type": "code",
   "execution_count": 41,
   "metadata": {},
   "outputs": [],
   "source": [
    "@dask.delayed\n",
    "def run_cmd(cmd, path_extra=Path(sys.exec_prefix)/'bin'):\n",
    "    '''Run a bash command.'''\n",
    "    env_extra = os.environ.copy()\n",
    "    env_extra['PATH'] = str(path_extra) + ':' + env_extra['PATH']\n",
    "    status = run(cmd, check=False, stderr=PIPE, stdout=PIPE, env=env_extra)\n",
    "    if status.returncode != 0:\n",
    "        error = f'''{' '.join(cmd)}: {status.stderr.decode('utf-8')}'''\n",
    "        raise RuntimeError(f'{error}')\n",
    "    return status.stdout.decode('utf-8')"
   ]
  },
  {
   "cell_type": "code",
   "execution_count": 46,
   "metadata": {},
   "outputs": [
    {
     "name": "stdout",
     "output_type": "stream",
     "text": [
      "20200120\n",
      "20200121\n",
      "20200122\n",
      "20200123\n",
      "20200124\n",
      "20200125\n",
      "20200126\n",
      "20200127\n",
      "20200128\n",
      "20200129\n",
      "20200130\n",
      "20200131\n",
      "20200201\n",
      "20200202\n",
      "20200203\n",
      "20200204\n",
      "20200205\n",
      "20200206\n",
      "20200207\n",
      "20200208\n",
      "20200209\n",
      "20200210\n",
      "20200211\n",
      "20200212\n",
      "20200213\n",
      "20200214\n",
      "20200215\n",
      "20200216\n",
      "20200217\n",
      "20200218\n",
      "20200219\n",
      "20200220\n",
      "20200221\n",
      "20200222\n",
      "20200223\n",
      "20200224\n",
      "20200225\n",
      "20200226\n",
      "20200227\n",
      "20200228\n",
      "20200229\n",
      "20200301\n"
     ]
    }
   ],
   "source": [
    "run_futures = []\n",
    "for day in unique_days: \n",
    "    print(day)\n",
    "    infiles = tuple(str(f) for f in input_path.rglob(f'pr_{day}*.nc'))\n",
    "    outfile = work_dir / 'DyWinter_b9' / 'Daily' / f'pr_{day}.nc'\n",
    "    # command = ('cdo', 'sellonlatbox,129,133,-14,-10', f'-setgrid,{gridfile}', '-select,name=pr', f'{infile}', f'{outfile}')\n",
    "    command = ('cdo', 'mergetime', *infiles, f'{outfile}')\n",
    "    run_futures.append(run_cmd(command))"
   ]
  },
  {
   "cell_type": "code",
   "execution_count": 47,
   "metadata": {},
   "outputs": [
    {
     "name": "stdout",
     "output_type": "stream",
     "text": [
      "[                                        ] | 2% Completed |  3min 14.7s\r"
     ]
    }
   ],
   "source": [
    "run_jobs = dask.persist(run_futures)\n",
    "progress(run_jobs, notebook=False)"
   ]
  }
 ],
 "metadata": {
  "kernelspec": {
   "display_name": "Python 3 unstable (using the module python3/unstable)",
   "language": "python",
   "name": "python3_unstable"
  },
  "language_info": {
   "codemirror_mode": {
    "name": "ipython",
    "version": 3
   },
   "file_extension": ".py",
   "mimetype": "text/x-python",
   "name": "python",
   "nbconvert_exporter": "python",
   "pygments_lexer": "ipython3",
   "version": "3.7.8"
  }
 },
 "nbformat": 4,
 "nbformat_minor": 4
}
