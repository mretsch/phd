{
 "cells": [
  {
   "cell_type": "code",
   "execution_count": 1,
   "metadata": {},
   "outputs": [],
   "source": [
    "from getpass import getuser # Libaray to copy things\n",
    "from pathlib import Path # Object oriented libary to deal with paths\n",
    "import os\n",
    "from tempfile import NamedTemporaryFile, TemporaryDirectory # Creating temporary Files/Dirs\n",
    "from subprocess import run, PIPE\n",
    "import sys\n",
    " \n",
    "import dask # Distributed data libary\n",
    "from dask_jobqueue import SLURMCluster # Setting up distributed memories via slurm\n",
    "from distributed import Client, progress, wait # Libaray to orchestrate distributed resources\n",
    "import xarray as xr # Libary to work with labeled n-dimensional data and dask"
   ]
  },
  {
   "cell_type": "code",
   "execution_count": 2,
   "metadata": {},
   "outputs": [],
   "source": [
    "import warnings\n",
    "warnings.filterwarnings(action='ignore')"
   ]
  },
  {
   "cell_type": "code",
   "execution_count": 3,
   "metadata": {},
   "outputs": [],
   "source": [
    "# Set some user specific variables\n",
    "scratch_dir = Path('/scratch') / getuser()[0] / getuser() # Define the users scratch dir\n",
    "# Create a temp directory where the output of distributed cluster will be written to, after this notebook\n",
    "# is closed the temp directory will be closed\n",
    "dask_tmp_dir = TemporaryDirectory(dir=scratch_dir, prefix='PostProc')\n",
    "cluster = SLURMCluster(memory='500GiB',\n",
    "                       cores=72,\n",
    "                       project='mh0731',\n",
    "                       walltime='1:00:00',\n",
    "                       queue='gpu',\n",
    "                       name='PostProc',\n",
    "                       scheduler_options={'dashboard_address': ':12435'},\n",
    "                       local_directory=dask_tmp_dir.name,\n",
    "                       job_extra=[f'-J PostProc', \n",
    "                                  f'-D {dask_tmp_dir.name}',\n",
    "                                  f'--begin=now',\n",
    "                                  f'--output={dask_tmp_dir.name}/LOG_cluster.%j.o',\n",
    "                                  f'--output={dask_tmp_dir.name}/LOG_cluster.%j.o'\n",
    "                                 ],\n",
    "                       interface='ib0')\n",
    "cluster.scale(jobs=2)\n",
    "dask_client = Client(cluster)\n",
    "dask_client.wait_for_workers(18)\n",
    "\n",
    "data_path = Path('/work/mh0287/k203123/GIT/icon-aes-dyw/experiments/dpp0014')\n",
    "glob_pattern = 'atm2_'\n",
    "# if dont take first element, theres a subdir with more matching files, we dont want that\n",
    "data_files = sorted([str(f) for f in data_path.rglob(f'*{glob_pattern}*.nc')]) #[1:]"
   ]
  },
  {
   "cell_type": "code",
   "execution_count": 4,
   "metadata": {},
   "outputs": [],
   "source": [
    "@dask.delayed\n",
    "def run_cmd(cmd, path_extra=Path(sys.exec_prefix)/'bin'):\n",
    "    '''Run a bash command.'''\n",
    "    env_extra = os.environ.copy()\n",
    "    env_extra['PATH'] = str(path_extra) + ':' + env_extra['PATH']\n",
    "    status = run(cmd, check=False, stderr=PIPE, stdout=PIPE, env=env_extra)\n",
    "    if status.returncode != 0:\n",
    "        error = f'''{' '.join(cmd)}: {status.stderr.decode('utf-8')}'''\n",
    "        raise RuntimeError(f'{error}')\n",
    "    return status.stdout.decode('utf-8')"
   ]
  },
  {
   "cell_type": "code",
   "execution_count": 5,
   "metadata": {},
   "outputs": [],
   "source": [
    "home = Path(os.path.expanduser('~'))\n",
    "work_dir = Path('/work/mh0731/m300414/')\n",
    "gridfile = Path('/pool/data/ICON/grids/public/mpim/0015/icon_grid_0015_R02B09_G.nc')"
   ]
  },
  {
   "cell_type": "code",
   "execution_count": 6,
   "metadata": {},
   "outputs": [],
   "source": [
    "output_path = Path('/work/mh0731/m300414/Data/DyWinter_again/')\n",
    "existing_output = [str(f) for f in output_path.rglob(f'*.nc')]"
   ]
  },
  {
   "cell_type": "code",
   "execution_count": 7,
   "metadata": {},
   "outputs": [
    {
     "data": {
      "text/plain": [
       "3872"
      ]
     },
     "execution_count": 7,
     "metadata": {},
     "output_type": "execute_result"
    }
   ],
   "source": [
    "len(existing_output)"
   ]
  },
  {
   "cell_type": "code",
   "execution_count": 8,
   "metadata": {},
   "outputs": [
    {
     "name": "stdout",
     "output_type": "stream",
     "text": [
      "20200120T1030\n",
      "20200120T1330\n",
      "20200122T1730\n",
      "20200122T1930\n",
      "20200123T0145\n",
      "20200123T1115\n",
      "20200123T1800\n",
      "20200124T0230\n",
      "20200126T0530\n",
      "20200126T0615\n",
      "20200126T1000\n",
      "20200127T0345\n",
      "20200127T0945\n",
      "20200127T1500\n",
      "20200127T1845\n",
      "20200127T2130\n",
      "20200130T1230\n",
      "20200130T2015\n",
      "20200131T0115\n",
      "20200201T2245\n",
      "20200202T1400\n",
      "20200202T2015\n",
      "20200203T0330\n",
      "20200203T1145\n",
      "20200203T2230\n",
      "20200204T0300\n",
      "20200205T0400\n",
      "20200205T1515\n",
      "20200205T1930\n",
      "20200206T0830\n",
      "20200206T1800\n",
      "20200207T0300\n",
      "20200207T1115\n",
      "20200207T1830\n",
      "20200208T0300\n",
      "20200208T0545\n",
      "20200208T0730\n",
      "20200208T1045\n",
      "20200208T1545\n",
      "20200209T0015\n",
      "20200209T2215\n",
      "20200209T2345\n",
      "20200210T0400\n",
      "20200210T2045\n",
      "20200211T0700\n",
      "20200212T1545\n",
      "20200212T1645\n",
      "20200212T2015\n",
      "20200214T1200\n",
      "20200214T1530\n",
      "20200214T1945\n",
      "20200214T2215\n",
      "20200215T0415\n",
      "20200216T1315\n",
      "20200216T1615\n",
      "20200216T2315\n",
      "20200217T1245\n",
      "20200217T1300\n",
      "20200217T1915\n",
      "20200217T2045\n",
      "20200218T0515\n",
      "20200218T2045\n",
      "20200219T1515\n",
      "20200220T1130\n",
      "20200221T0730\n",
      "20200221T0845\n",
      "20200221T1700\n",
      "20200221T2215\n",
      "20200222T1045\n",
      "20200222T1800\n",
      "20200223T0915\n",
      "20200224T0115\n",
      "20200224T0345\n",
      "20200224T1415\n",
      "20200224T1815\n",
      "20200224T2000\n",
      "20200225T0430\n",
      "20200225T0730\n",
      "20200225T1215\n",
      "20200225T2000\n",
      "20200225T2015\n",
      "20200227T0500\n",
      "20200227T0730\n",
      "20200227T2215\n",
      "20200228T0530\n",
      "20200228T2130\n",
      "20200229T0900\n",
      "20200229T1745\n",
      "20200229T2030\n"
     ]
    }
   ],
   "source": [
    "run_futures = []\n",
    "for infile in data_files:\n",
    "    \n",
    "    if not any(infile[-19:-6] in existing_file for existing_file in existing_output):\n",
    "    \n",
    "        print(infile[-19:-6])\n",
    "        outfile = work_dir / 'Data' / 'DyWinter_again2' / f'pr_{infile[-19:-6]}.nc'\n",
    "        # command = ('cdo', 'sellonlatbox,129,133,-14,-10', f'-setgrid,{gridfile}', '-select,name=pr', f'{infile}', f'{outfile}')\n",
    "        command = ('cdo', 'sellonlatbox,-180,180,-20,20', f'-setgrid,{gridfile}', '-select,name=pr', f'{infile}', f'{outfile}')\n",
    "        run_futures.append(run_cmd(command))"
   ]
  },
  {
   "cell_type": "code",
   "execution_count": 9,
   "metadata": {},
   "outputs": [
    {
     "name": "stdout",
     "output_type": "stream",
     "text": [
      "[########################################] | 100% Completed |  1min 18.3s\r"
     ]
    }
   ],
   "source": [
    "run_jobs = dask.persist(run_futures)\n",
    "progress(run_jobs, notebook=False)"
   ]
  },
  {
   "cell_type": "code",
   "execution_count": 10,
   "metadata": {},
   "outputs": [
    {
     "data": {
      "text/plain": [
       "2"
      ]
     },
     "execution_count": 10,
     "metadata": {},
     "output_type": "execute_result"
    }
   ],
   "source": [
    "1+1"
   ]
  },
  {
   "cell_type": "markdown",
   "metadata": {},
   "source": [
    "2+1"
   ]
  },
  {
   "cell_type": "code",
   "execution_count": 11,
   "metadata": {},
   "outputs": [
    {
     "data": {
      "text/plain": [
       "3"
      ]
     },
     "execution_count": 11,
     "metadata": {},
     "output_type": "execute_result"
    }
   ],
   "source": [
    "2+1"
   ]
  },
  {
   "cell_type": "code",
   "execution_count": null,
   "metadata": {},
   "outputs": [],
   "source": []
  }
 ],
 "metadata": {
  "kernelspec": {
   "display_name": "Python 3 unstable (using the module python3/unstable)",
   "language": "python",
   "name": "python3_unstable"
  },
  "language_info": {
   "codemirror_mode": {
    "name": "ipython",
    "version": 3
   },
   "file_extension": ".py",
   "mimetype": "text/x-python",
   "name": "python",
   "nbconvert_exporter": "python",
   "pygments_lexer": "ipython3",
   "version": "3.7.8"
  }
 },
 "nbformat": 4,
 "nbformat_minor": 4
}
